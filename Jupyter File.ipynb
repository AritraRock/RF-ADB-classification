{
  "cells": [
    {
      "cell_type": "markdown",
      "metadata": {
        "id": "yOjtUOyzQqdN"
      },
      "source": [
        "#**Aritra Ray**"
      ]
    },
    {
      "cell_type": "markdown",
      "metadata": {
        "id": "eJjhaYBTQvyg"
      },
      "source": [
        "#**21IM10008**"
      ]
    },
    {
      "cell_type": "code",
      "execution_count": 1,
      "metadata": {
        "id": "kB0Bux0FP8mx"
      },
      "outputs": [],
      "source": [
        "import numpy as np\n",
        "import matplotlib.pyplot as plt\n",
        "from sklearn.datasets import load_breast_cancer\n",
        "from sklearn.model_selection import train_test_split, GridSearchCV\n",
        "from sklearn.ensemble import RandomForestRegressor, AdaBoostClassifier\n",
        "from sklearn.tree import DecisionTreeClassifier\n",
        "from sklearn.metrics import mean_squared_error, classification_report, confusion_matrix"
      ]
    },
    {
      "cell_type": "markdown",
      "metadata": {
        "id": "9BVJF-UnQycp"
      },
      "source": [
        "#**Random Forest Regression (Boston Housing Dataset)**"
      ]
    },
    {
      "cell_type": "markdown",
      "metadata": {
        "id": "d2XaJI1FQ33H"
      },
      "source": [
        "# Data preparation"
      ]
    },
    {
      "cell_type": "code",
      "execution_count": 2,
      "metadata": {
        "id": "v_zMFoK0QA5d"
      },
      "outputs": [],
      "source": [
        "import pandas as pd\n",
        "data_url = \"http://lib.stat.cmu.edu/datasets/boston\"\n",
        "raw_df = pd.read_csv(data_url, sep=\"\\s+\", skiprows=22, header=None)\n",
        "data = np.hstack([raw_df.values[::2, :], raw_df.values[1::2, :2]])\n",
        "target = raw_df.values[1::2, 2]\n",
        "X_boston, y_boston = data, target\n",
        "X_boston_train, X_boston_temp, y_boston_train, y_boston_temp = train_test_split(X_boston, y_boston, test_size=0.3, random_state=42)\n",
        "X_boston_val, X_boston_test, y_boston_val, y_boston_test = train_test_split(X_boston_temp, y_boston_temp, test_size=0.5, random_state=42)"
      ]
    },
    {
      "cell_type": "markdown",
      "metadata": {
        "id": "Xw5pZ4qXQ_YK"
      },
      "source": [
        "# Model training and hyperparameter tuning"
      ]
    },
    {
      "cell_type": "code",
      "execution_count": 3,
      "metadata": {
        "id": "TSr5KdAZQDmE"
      },
      "outputs": [],
      "source": [
        "param_grid_rf = {\n",
        "    'n_estimators': [50, 100, 150],\n",
        "    'max_depth': [None, 5, 10, 15],\n",
        "    'max_features': [int(np.log2(X_boston.shape[1]))]\n",
        "}\n",
        "rf = RandomForestRegressor(criterion='squared_error')\n",
        "grid_search_rf = GridSearchCV(rf, param_grid_rf, cv=5)\n",
        "grid_search_rf.fit(X_boston_train, y_boston_train)\n",
        "best_rf = grid_search_rf.best_estimator_"
      ]
    },
    {
      "cell_type": "markdown",
      "metadata": {
        "id": "UF5TbUzfRASn"
      },
      "source": [
        "# Evaluation with trained model corresponding to best hyperparameters"
      ]
    },
    {
      "cell_type": "code",
      "execution_count": 4,
      "metadata": {
        "colab": {
          "base_uri": "https://localhost:8080/",
          "height": 489
        },
        "id": "zkJoz5bQQHaV",
        "outputId": "90930d4c-e7c6-47cb-ced3-9e7ffc72262d"
      },
      "outputs": [
        {
          "name": "stdout",
          "output_type": "stream",
          "text": [
            "Random Forest Regression Mean Squared Error: 15.74446744329306\n"
          ]
        },
        {
          "data": {
            "image/png": "[encoded data removed]",
            "text/plain": [
              "<Figure size 640x480 with 1 Axes>"
            ]
          },
          "metadata": {},
          "output_type": "display_data"
        }
      ],
      "source": [
        "y_pred_rf = best_rf.predict(X_boston_test)\n",
        "mse_rf = mean_squared_error(y_boston_test, y_pred_rf)\n",
        "print(\"Random Forest Regression Mean Squared Error:\", mse_rf)\n",
        "\n",
        "plt.scatter(y_boston_test, y_pred_rf)\n",
        "plt.xlabel(\"Actual Prices\")\n",
        "plt.ylabel(\"Predicted Prices\")\n",
        "plt.title(\"Random Forest Regression: Actual vs Predicted Prices\")\n",
        "plt.show()"
      ]
    },
    {
      "cell_type": "markdown",
      "metadata": {
        "id": "zidkhtBzRDJ5"
      },
      "source": [
        "# **AdaBoost Classification (Breast Cancer Dataset)**"
      ]
    },
    {
      "cell_type": "markdown",
      "metadata": {
        "id": "IFnjIk_YRHDl"
      },
      "source": [
        "# Data preparation"
      ]
    },
    {
      "cell_type": "code",
      "execution_count": 5,
      "metadata": {
        "id": "M1WTS66SQKD4"
      },
      "outputs": [],
      "source": [
        "breast_cancer = load_breast_cancer()\n",
        "X_bc, y_bc = breast_cancer.data, breast_cancer.target\n",
        "X_bc_train, X_bc_temp, y_bc_train, y_bc_temp = train_test_split(X_bc, y_bc, test_size=0.3, random_state=42)\n",
        "X_bc_val, X_bc_test, y_bc_val, y_bc_test = train_test_split(X_bc_temp, y_bc_temp, test_size=0.5, random_state=42)"
      ]
    },
    {
      "cell_type": "markdown",
      "metadata": {
        "id": "mnPfxgIFRH16"
      },
      "source": [
        "# Model training and hyperparameter tuning (custom implementation)"
      ]
    },
    {
      "cell_type": "code",
      "execution_count": 6,
      "metadata": {
        "id": "iDqU0kHOQbD4"
      },
      "outputs": [],
      "source": [
        "class CustomAdaBoost:\n",
        "    def __init__(self, n_estimators=50):\n",
        "        self.n_estimators = n_estimators\n",
        "        self.models = []\n",
        "\n",
        "    def fit(self, X, y):\n",
        "        n = X.shape[0]\n",
        "        w = np.ones(n) / n  # Initialize weights\n",
        "        for _ in range(self.n_estimators):\n",
        "            model = DecisionTreeClassifier(max_depth=1)\n",
        "            model.fit(X, y, sample_weight=w)\n",
        "            y_pred = model.predict(X)\n",
        "            err = np.sum(w * (y_pred != y)) / np.sum(w)  # Calculate weighted error\n",
        "            alpha = 0.5 * np.log((1 - err) / err)  # Calculate model weight\n",
        "            w *= np.exp(-alpha * y * y_pred)  # Update weights\n",
        "            w /= np.sum(w)  # Normalize weights\n",
        "            self.models.append((alpha, model))\n",
        "\n",
        "    def predict(self, X):\n",
        "        preds = np.zeros(X.shape[0])\n",
        "        for alpha, model in self.models:\n",
        "            preds += alpha * model.predict(X)\n",
        "        return np.sign(preds)\n",
        "\n",
        "    def score(self, X, y):\n",
        "        y_pred = self.predict(X)\n",
        "        return np.mean(y_pred == y)\n",
        "\n",
        "    def get_params(self, deep=True):\n",
        "        return {'n_estimators': self.n_estimators}\n",
        "\n",
        "    def set_params(self, **params):\n",
        "        if 'n_estimators' in params:\n",
        "            self.n_estimators = params['n_estimators']\n",
        "        return self\n",
        "\n",
        "param_grid_custom_adaboost = {'n_estimators': [50, 100, 150]}\n",
        "grid_search_custom_adaboost = GridSearchCV(CustomAdaBoost(), param_grid_custom_adaboost, cv=5)\n",
        "grid_search_custom_adaboost.fit(X_bc_train, y_bc_train)\n",
        "best_custom_adaboost = grid_search_custom_adaboost.best_estimator_"
      ]
    },
    {
      "cell_type": "markdown",
      "metadata": {
        "id": "ljyhDyD6RL6V"
      },
      "source": [
        "# Evaluation with trained model corresponding to best hyperparameters (custom implementation)"
      ]
    },
    {
      "cell_type": "code",
      "execution_count": 7,
      "metadata": {
        "colab": {
          "base_uri": "https://localhost:8080/"
        },
        "id": "N3pLXB32Qlko",
        "outputId": "7eefd809-adff-411f-cc82-162c1cd94c2c"
      },
      "outputs": [
        {
          "name": "stdout",
          "output_type": "stream",
          "text": [
            "Custom AdaBoost Classification Report:\n",
            "              precision    recall  f1-score   support\n",
            "\n",
            "           0       0.92      0.85      0.88        26\n",
            "           1       0.94      0.97      0.95        60\n",
            "\n",
            "    accuracy                           0.93        86\n",
            "   macro avg       0.93      0.91      0.92        86\n",
            "weighted avg       0.93      0.93      0.93        86\n",
            "\n",
            "Confusion Matrix:\n",
            "[[22  4]\n",
            " [ 2 58]]\n"
          ]
        }
      ],
      "source": [
        "y_pred_custom_adaboost = best_custom_adaboost.predict(X_bc_test)\n",
        "print(\"Custom AdaBoost Classification Report:\")\n",
        "print(classification_report(y_bc_test, y_pred_custom_adaboost))\n",
        "print(\"Confusion Matrix:\")\n",
        "print(confusion_matrix(y_bc_test, y_pred_custom_adaboost))"
      ]
    },
    {
      "cell_type": "markdown",
      "metadata": {
        "id": "IK9KOVYFRsNI"
      },
      "source": [
        "# Comparison with sklearn’s implementation of Adaboost Classifier"
      ]
    },
    {
      "cell_type": "code",
      "execution_count": 8,
      "metadata": {
        "id": "pWGMNcEoQm8j"
      },
      "outputs": [
        {
          "name": "stderr",
          "output_type": "stream",
          "text": [
            "c:\\Users\\aritr\\AppData\\Local\\Programs\\Python\\Python311\\Lib\\site-packages\\sklearn\\ensemble\\_weight_boosting.py:519: FutureWarning: The SAMME.R algorithm (the default) is deprecated and will be removed in 1.6. Use the SAMME algorithm to circumvent this warning.\n",
            "  warnings.warn(\n",
            "c:\\Users\\aritr\\AppData\\Local\\Programs\\Python\\Python311\\Lib\\site-packages\\sklearn\\ensemble\\_weight_boosting.py:519: FutureWarning: The SAMME.R algorithm (the default) is deprecated and will be removed in 1.6. Use the SAMME algorithm to circumvent this warning.\n",
            "  warnings.warn(\n",
            "c:\\Users\\aritr\\AppData\\Local\\Programs\\Python\\Python311\\Lib\\site-packages\\sklearn\\ensemble\\_weight_boosting.py:519: FutureWarning: The SAMME.R algorithm (the default) is deprecated and will be removed in 1.6. Use the SAMME algorithm to circumvent this warning.\n",
            "  warnings.warn(\n",
            "c:\\Users\\aritr\\AppData\\Local\\Programs\\Python\\Python311\\Lib\\site-packages\\sklearn\\ensemble\\_weight_boosting.py:519: FutureWarning: The SAMME.R algorithm (the default) is deprecated and will be removed in 1.6. Use the SAMME algorithm to circumvent this warning.\n",
            "  warnings.warn(\n",
            "c:\\Users\\aritr\\AppData\\Local\\Programs\\Python\\Python311\\Lib\\site-packages\\sklearn\\ensemble\\_weight_boosting.py:519: FutureWarning: The SAMME.R algorithm (the default) is deprecated and will be removed in 1.6. Use the SAMME algorithm to circumvent this warning.\n",
            "  warnings.warn(\n",
            "c:\\Users\\aritr\\AppData\\Local\\Programs\\Python\\Python311\\Lib\\site-packages\\sklearn\\ensemble\\_weight_boosting.py:519: FutureWarning: The SAMME.R algorithm (the default) is deprecated and will be removed in 1.6. Use the SAMME algorithm to circumvent this warning.\n",
            "  warnings.warn(\n",
            "c:\\Users\\aritr\\AppData\\Local\\Programs\\Python\\Python311\\Lib\\site-packages\\sklearn\\ensemble\\_weight_boosting.py:519: FutureWarning: The SAMME.R algorithm (the default) is deprecated and will be removed in 1.6. Use the SAMME algorithm to circumvent this warning.\n",
            "  warnings.warn(\n",
            "c:\\Users\\aritr\\AppData\\Local\\Programs\\Python\\Python311\\Lib\\site-packages\\sklearn\\ensemble\\_weight_boosting.py:519: FutureWarning: The SAMME.R algorithm (the default) is deprecated and will be removed in 1.6. Use the SAMME algorithm to circumvent this warning.\n",
            "  warnings.warn(\n",
            "c:\\Users\\aritr\\AppData\\Local\\Programs\\Python\\Python311\\Lib\\site-packages\\sklearn\\ensemble\\_weight_boosting.py:519: FutureWarning: The SAMME.R algorithm (the default) is deprecated and will be removed in 1.6. Use the SAMME algorithm to circumvent this warning.\n",
            "  warnings.warn(\n",
            "c:\\Users\\aritr\\AppData\\Local\\Programs\\Python\\Python311\\Lib\\site-packages\\sklearn\\ensemble\\_weight_boosting.py:519: FutureWarning: The SAMME.R algorithm (the default) is deprecated and will be removed in 1.6. Use the SAMME algorithm to circumvent this warning.\n",
            "  warnings.warn(\n",
            "c:\\Users\\aritr\\AppData\\Local\\Programs\\Python\\Python311\\Lib\\site-packages\\sklearn\\ensemble\\_weight_boosting.py:519: FutureWarning: The SAMME.R algorithm (the default) is deprecated and will be removed in 1.6. Use the SAMME algorithm to circumvent this warning.\n",
            "  warnings.warn(\n",
            "c:\\Users\\aritr\\AppData\\Local\\Programs\\Python\\Python311\\Lib\\site-packages\\sklearn\\ensemble\\_weight_boosting.py:519: FutureWarning: The SAMME.R algorithm (the default) is deprecated and will be removed in 1.6. Use the SAMME algorithm to circumvent this warning.\n",
            "  warnings.warn(\n",
            "c:\\Users\\aritr\\AppData\\Local\\Programs\\Python\\Python311\\Lib\\site-packages\\sklearn\\ensemble\\_weight_boosting.py:519: FutureWarning: The SAMME.R algorithm (the default) is deprecated and will be removed in 1.6. Use the SAMME algorithm to circumvent this warning.\n",
            "  warnings.warn(\n",
            "c:\\Users\\aritr\\AppData\\Local\\Programs\\Python\\Python311\\Lib\\site-packages\\sklearn\\ensemble\\_weight_boosting.py:519: FutureWarning: The SAMME.R algorithm (the default) is deprecated and will be removed in 1.6. Use the SAMME algorithm to circumvent this warning.\n",
            "  warnings.warn(\n",
            "c:\\Users\\aritr\\AppData\\Local\\Programs\\Python\\Python311\\Lib\\site-packages\\sklearn\\ensemble\\_weight_boosting.py:519: FutureWarning: The SAMME.R algorithm (the default) is deprecated and will be removed in 1.6. Use the SAMME algorithm to circumvent this warning.\n",
            "  warnings.warn(\n",
            "c:\\Users\\aritr\\AppData\\Local\\Programs\\Python\\Python311\\Lib\\site-packages\\sklearn\\ensemble\\_weight_boosting.py:519: FutureWarning: The SAMME.R algorithm (the default) is deprecated and will be removed in 1.6. Use the SAMME algorithm to circumvent this warning.\n",
            "  warnings.warn(\n"
          ]
        },
        {
          "name": "stdout",
          "output_type": "stream",
          "text": [
            "Sklearn AdaBoost Classification Report:\n",
            "              precision    recall  f1-score   support\n",
            "\n",
            "           0       0.96      1.00      0.98        26\n",
            "           1       1.00      0.98      0.99        60\n",
            "\n",
            "    accuracy                           0.99        86\n",
            "   macro avg       0.98      0.99      0.99        86\n",
            "weighted avg       0.99      0.99      0.99        86\n",
            "\n",
            "Confusion Matrix:\n",
            "[[26  0]\n",
            " [ 1 59]]\n"
          ]
        }
      ],
      "source": [
        "param_grid_sklearn_adaboost = {'n_estimators': [50, 100, 150]}\n",
        "grid_search_sklearn_adaboost = GridSearchCV(AdaBoostClassifier(), param_grid_sklearn_adaboost, cv=5)\n",
        "grid_search_sklearn_adaboost.fit(X_bc_train, y_bc_train)\n",
        "best_sklearn_adaboost = grid_search_sklearn_adaboost.best_estimator_\n",
        "y_pred_sklearn_adaboost = best_sklearn_adaboost.predict(X_bc_test) # Evaluation with trained model corresponding to best hyperparameters (sklearn implementation)\n",
        "print(\"Sklearn AdaBoost Classification Report:\")\n",
        "print(classification_report(y_bc_test, y_pred_sklearn_adaboost))\n",
        "print(\"Confusion Matrix:\")\n",
        "print(confusion_matrix(y_bc_test, y_pred_sklearn_adaboost))"
      ]
    }
  ],
  "metadata": {
    "colab": {
      "provenance": []
    },
    "kernelspec": {
      "display_name": "Python 3",
      "name": "python3"
    },
    "language_info": {
      "codemirror_mode": {
        "name": "ipython",
        "version": 3
      },
      "file_extension": ".py",
      "mimetype": "text/x-python",
      "name": "python",
      "nbconvert_exporter": "python",
      "pygments_lexer": "ipython3",
      "version": "3.11.4"
    }
  },
  "nbformat": 4,
  "nbformat_minor": 0
}
